{
 "cells": [
  {
   "cell_type": "markdown",
   "metadata": {},
   "source": [
    "# Migration script for Elasticsearch\n",
    "\n",
    "This script adds metadata to elasticsearch."
   ]
  },
  {
   "cell_type": "code",
   "execution_count": null,
   "metadata": {},
   "outputs": [],
   "source": [
    "import os\n",
    "\n",
    "import psycopg2\n",
    "from elasticsearch import Elasticsearch\n",
    "\n",
    "from scraper_place.config import CONFIG_DATABASE, STATE_CONTENT_INDEXATION_OK"
   ]
  },
  {
   "cell_type": "code",
   "execution_count": null,
   "metadata": {},
   "outputs": [],
   "source": [
    "es_client = Elasticsearch()"
   ]
  },
  {
   "cell_type": "code",
   "execution_count": null,
   "metadata": {},
   "outputs": [],
   "source": [
    "# Open connection\n",
    "connection = psycopg2.connect(\n",
    "    dbname=CONFIG_DATABASE['name'],\n",
    "    user=CONFIG_DATABASE['username'],\n",
    "    password=CONFIG_DATABASE['password'],\n",
    ")\n",
    "cursor = connection.cursor()"
   ]
  },
  {
   "cell_type": "code",
   "execution_count": null,
   "metadata": {},
   "outputs": [],
   "source": [
    "cursor.execute(\n",
    "    \"\"\"\n",
    "    SELECT\n",
    "        annonce_id, org_acronym, links_boamp, reference, intitule, objet, reglement_ref,\n",
    "        filename_reglement, filename_complement, filename_avis, filename_dce,\n",
    "        fetch_datetime,\n",
    "        file_size_reglement, file_size_complement, file_size_avis, file_size_dce,\n",
    "        glacier_id_reglement, glacier_id_complement, glacier_id_avis, glacier_id_dce,\n",
    "        embedded_filenames_reglement, embedded_filenames_complement, embedded_filenames_avis, embedded_filenames_dce,\n",
    "        state\n",
    "    FROM dce\n",
    "    WHERE state = %s\n",
    "    ;\"\"\",\n",
    "    (STATE_CONTENT_INDEXATION_OK,),\n",
    ")\n",
    "dce_data_list = cursor.fetchall()"
   ]
  },
  {
   "cell_type": "code",
   "execution_count": null,
   "metadata": {},
   "outputs": [],
   "source": [
    "len(dce_data_list)"
   ]
  },
  {
   "cell_type": "code",
   "execution_count": null,
   "metadata": {},
   "outputs": [],
   "source": [
    "for i, dce_data in enumerate(dce_data_list[4746:]):\n",
    "    (\n",
    "        annonce_id, org_acronym, links_boamp, reference, intitule, objet, reglement_ref,\n",
    "        filename_reglement, filename_complement, filename_avis, filename_dce,\n",
    "        fetch_datetime,\n",
    "        file_size_reglement, file_size_complement, file_size_avis, file_size_dce,\n",
    "        glacier_id_reglement, glacier_id_complement, glacier_id_avis, glacier_id_dce,\n",
    "        embedded_filenames_reglement, embedded_filenames_complement, embedded_filenames_avis, embedded_filenames_dce,\n",
    "        state\n",
    "    ) = dce_data\n",
    "\n",
    "    response = es_client.update(\n",
    "        index='dce',\n",
    "        doc_type='dce',\n",
    "        id='{}-{}'.format(annonce_id, org_acronym),\n",
    "        body={\n",
    "            'doc': {\n",
    "                'annonce_id': annonce_id,\n",
    "                'org_acronym': org_acronym,\n",
    "                'links_boamp': links_boamp,\n",
    "                'reference': reference,\n",
    "                'intitule': intitule,\n",
    "                'objet': objet,\n",
    "                'reglement_ref': reglement_ref,\n",
    "                'filename_reglement': filename_reglement,\n",
    "                'filename_complement': filename_complement,\n",
    "                'filename_avis': filename_avis,\n",
    "                'filename_dce': filename_dce,\n",
    "                'fetch_datetime': fetch_datetime,\n",
    "                'file_size_reglement': file_size_reglement,\n",
    "                'file_size_complement': file_size_complement,\n",
    "                'file_size_avis': file_size_avis,\n",
    "                'file_size_dce': file_size_dce,\n",
    "                'glacier_id_reglement': glacier_id_reglement,\n",
    "                'glacier_id_complement': glacier_id_complement,\n",
    "                'glacier_id_avis': glacier_id_avis,\n",
    "                'glacier_id_dce': glacier_id_dce,\n",
    "                'embedded_filenames_reglement': embedded_filenames_reglement,\n",
    "                'embedded_filenames_complement': embedded_filenames_complement,\n",
    "                'embedded_filenames_avis': embedded_filenames_avis,\n",
    "                'embedded_filenames_dce': embedded_filenames_dce,\n",
    "                'state': state,\n",
    "            },\n",
    "        },\n",
    "    )\n",
    "    \n",
    "    if i%100 == 0:\n",
    "        print('.')\n"
   ]
  },
  {
   "cell_type": "code",
   "execution_count": null,
   "metadata": {},
   "outputs": [],
   "source": [
    "es_client.get(\n",
    "        index='dce',\n",
    "        doc_type='dce',\n",
    "        id='350004-g7h',\n",
    ")"
   ]
  },
  {
   "cell_type": "code",
   "execution_count": null,
   "metadata": {},
   "outputs": [],
   "source": [
    "cursor.close()\n",
    "connection.close()"
   ]
  },
  {
   "cell_type": "code",
   "execution_count": null,
   "metadata": {},
   "outputs": [],
   "source": []
  }
 ],
 "metadata": {
  "kernelspec": {
   "display_name": "Python 3",
   "language": "python",
   "name": "python3"
  },
  "language_info": {
   "codemirror_mode": {
    "name": "ipython",
    "version": 3
   },
   "file_extension": ".py",
   "mimetype": "text/x-python",
   "name": "python",
   "nbconvert_exporter": "python",
   "pygments_lexer": "ipython3",
   "version": "3.6.4"
  }
 },
 "nbformat": 4,
 "nbformat_minor": 2
}
