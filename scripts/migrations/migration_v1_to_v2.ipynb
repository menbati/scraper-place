{
 "cells": [
  {
   "cell_type": "markdown",
   "metadata": {},
   "source": [
    "# Migration script\n",
    "\n",
    "This script is useful to move from v1 to v2.\n",
    "\n",
    "- Save the database and make a copy of the files just in case\n",
    "- Make sure the table DCE contains all the fields (see create_table.ipynb)\n",
    "- Make sure the files are stored in the directory filled in the config file\n",
    "- Run this script to add the file sizes and set the processing state of each DCE\n",
    "- You can delete the table `files`"
   ]
  },
  {
   "cell_type": "code",
   "execution_count": 1,
   "metadata": {},
   "outputs": [],
   "source": [
    "import os\n",
    "\n",
    "import psycopg2\n",
    "\n",
    "from scraper_place.config import CONFIG_DATABASE, CONFIG_FILE_STORAGE, STATE_FETCH_OK, build_internal_filepath"
   ]
  },
  {
   "cell_type": "code",
   "execution_count": 2,
   "metadata": {},
   "outputs": [],
   "source": [
    "# Open connection\n",
    "connection = psycopg2.connect(\n",
    "    dbname=CONFIG_DATABASE['name'],\n",
    "    user=CONFIG_DATABASE['username'],\n",
    "    password=CONFIG_DATABASE['password'],\n",
    ")\n",
    "cursor = connection.cursor()"
   ]
  },
  {
   "cell_type": "code",
   "execution_count": 3,
   "metadata": {},
   "outputs": [],
   "source": [
    "cursor.execute(\n",
    "    \"\"\"\n",
    "    SELECT annonce_id, org_acronym, intitule,\n",
    "        filename_reglement, filename_complement, filename_avis, filename_dce\n",
    "    FROM dce\n",
    "    ;\"\"\"\n",
    ")\n",
    "dce_data_list = cursor.fetchall()"
   ]
  },
  {
   "cell_type": "code",
   "execution_count": 4,
   "metadata": {},
   "outputs": [],
   "source": [
    "for dce_data in dce_data_list:\n",
    "    (\n",
    "        annonce_id, org_acronym, intitule,\n",
    "        filename_reglement, filename_complement, filename_avis, filename_dce\n",
    "    ) = dce_data\n",
    "\n",
    "    file_types = ['reglement', 'complement', 'avis', 'dce']\n",
    "    filenames = [filename_reglement, filename_complement, filename_avis, filename_dce]\n",
    "    for file_type, filename in zip(file_types, filenames):\n",
    "        if filename:\n",
    "            internal_filepath = build_internal_filepath(annonce_id, org_acronym, filename, file_type)\n",
    "            file_size = os.path.getsize(internal_filepath)\n",
    "            \n",
    "            psql_request_template = \"\"\"\n",
    "                UPDATE dce\n",
    "                SET file_size_{} = %s\n",
    "                WHERE annonce_id = %s AND org_acronym = %s\n",
    "                ;\"\"\".format(file_type)\n",
    "            cursor.execute(\n",
    "                psql_request_template,\n",
    "                (file_size, annonce_id, org_acronym)\n",
    "            )\n",
    "    \n",
    "    cursor.execute(\n",
    "        \"\"\"\n",
    "        UPDATE dce\n",
    "        SET state = %s\n",
    "        WHERE annonce_id = %s AND org_acronym = %s\n",
    "        ;\"\"\",\n",
    "        (STATE_FETCH_OK, annonce_id, org_acronym)\n",
    "    )\n",
    "\n",
    "    connection.commit()"
   ]
  },
  {
   "cell_type": "code",
   "execution_count": 5,
   "metadata": {},
   "outputs": [],
   "source": [
    "cursor.close()\n",
    "connection.close()"
   ]
  },
  {
   "cell_type": "code",
   "execution_count": null,
   "metadata": {},
   "outputs": [],
   "source": []
  }
 ],
 "metadata": {
  "kernelspec": {
   "display_name": "Python 3",
   "language": "python",
   "name": "python3"
  },
  "language_info": {
   "codemirror_mode": {
    "name": "ipython",
    "version": 3
   },
   "file_extension": ".py",
   "mimetype": "text/x-python",
   "name": "python",
   "nbconvert_exporter": "python",
   "pygments_lexer": "ipython3",
   "version": "3.6.3"
  }
 },
 "nbformat": 4,
 "nbformat_minor": 2
}
