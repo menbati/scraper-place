{
 "cells": [
  {
   "cell_type": "markdown",
   "metadata": {},
   "source": [
    "# Migration script\n",
    "\n",
    "This script is useful to export v2 to json.\n"
   ]
  },
  {
   "cell_type": "code",
   "execution_count": 1,
   "metadata": {},
   "outputs": [],
   "source": [
    "import os\n",
    "import json\n",
    "\n",
    "from bson import json_util\n",
    "import psycopg2\n",
    "\n",
    "from scraper_place.config import CONFIG_DATABASE"
   ]
  },
  {
   "cell_type": "code",
   "execution_count": 2,
   "metadata": {},
   "outputs": [],
   "source": [
    "# Open connection\n",
    "connection = psycopg2.connect(\n",
    "    dbname=CONFIG_DATABASE['name'],\n",
    "    user=CONFIG_DATABASE['username'],\n",
    "    password=CONFIG_DATABASE['password'],\n",
    ")\n",
    "cursor = connection.cursor()"
   ]
  },
  {
   "cell_type": "code",
   "execution_count": 3,
   "metadata": {},
   "outputs": [],
   "source": [
    "cursor.execute(\n",
    "    \"\"\"\n",
    "    SELECT *\n",
    "    FROM dce\n",
    "    ;\"\"\"\n",
    ")\n",
    "dce_data_list = cursor.fetchall()"
   ]
  },
  {
   "cell_type": "code",
   "execution_count": 4,
   "metadata": {},
   "outputs": [],
   "source": [
    "cursor.close()\n",
    "connection.close()"
   ]
  },
  {
   "cell_type": "code",
   "execution_count": 5,
   "metadata": {},
   "outputs": [],
   "source": [
    "\n",
    "export = [\n",
    "    dict(zip(\n",
    "        ('annonce_id', 'org_acronym', 'links_boamp', 'reference', 'intitule', 'objet', 'reglement_ref',\n",
    "        'filename_reglement', 'filename_complement', 'filename_avis', 'filename_dce',\n",
    "        'fetch_datetime',\n",
    "        'file_size_reglement', 'file_size_complement', 'file_size_avis', 'file_size_dce',\n",
    "        'glacier_id_reglement', 'glacier_id_complement', 'glacier_id_avis', 'glacier_id_dce',\n",
    "        'embedded_filenames_reglement', 'embedded_filenames_complement', 'embedded_filenames_avis', 'embedded_filenames_dce',\n",
    "        'state',),\n",
    "        dce_data\n",
    "    ))\n",
    "    for dce_data in dce_data_list\n",
    "]\n"
   ]
  },
  {
   "cell_type": "code",
   "execution_count": 6,
   "metadata": {},
   "outputs": [
    {
     "data": {
      "text/plain": [
       "56654"
      ]
     },
     "execution_count": 6,
     "metadata": {},
     "output_type": "execute_result"
    }
   ],
   "source": [
    "len(export)"
   ]
  },
  {
   "cell_type": "code",
   "execution_count": 7,
   "metadata": {},
   "outputs": [],
   "source": [
    "with open('export.json', 'w') as f:\n",
    "    json.dump(export, f, default=json_util.default)"
   ]
  },
  {
   "cell_type": "code",
   "execution_count": null,
   "metadata": {},
   "outputs": [],
   "source": []
  }
 ],
 "metadata": {
  "kernelspec": {
   "display_name": "Python 3",
   "language": "python",
   "name": "python3"
  },
  "language_info": {
   "codemirror_mode": {
    "name": "ipython",
    "version": 3
   },
   "file_extension": ".py",
   "mimetype": "text/x-python",
   "name": "python",
   "nbconvert_exporter": "python",
   "pygments_lexer": "ipython3",
   "version": "3.6.4"
  }
 },
 "nbformat": 4,
 "nbformat_minor": 2
}
