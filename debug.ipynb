{
 "cells": [
  {
   "cell_type": "code",
   "execution_count": 1,
   "metadata": {},
   "outputs": [],
   "source": [
    "import datetime\n",
    "import re\n",
    "from collections import Counter\n",
    "import traceback\n",
    "import os\n",
    "\n",
    "import requests\n",
    "from bs4 import BeautifulSoup\n"
   ]
  },
  {
   "cell_type": "code",
   "execution_count": 19,
   "metadata": {},
   "outputs": [],
   "source": [
    "URL_SEARCH = 'https://www.marches-publics.gouv.fr/?page=entreprise.EntrepriseAdvancedSearch&AllCons'\n",
    "\n",
    "\n",
    "PAGE_STATE_REGEX = '<input type=\"hidden\" name=\"PRADO_PAGESTATE\" id=\"PRADO_PAGESTATE\" value=\"([a-zA-Z0-9/+=]+)\"'\n",
    "LINK_REGEX = r'^https://www\\.marches-publics\\.gouv\\.fr/\\?page=entreprise\\.EntrepriseDetailsConsultation&refConsultation=([\\d]+)&orgAcronyme=([\\da-z]+)$'\n",
    "REGLEMENT_REGEX = r'/index.php\\?page=entreprise\\.EntrepriseDownloadReglement&reference=([a-zA-Z\\d]+)&orgAcronyme=([\\da-z]+)$'\n",
    "BOAMP_REGEX = r'^http://www\\.boamp\\.fr/(?:index\\.php/)?avis/detail/([\\d-]+)(?:/[\\d]+)?$'"
   ]
  },
  {
   "cell_type": "code",
   "execution_count": 5,
   "metadata": {},
   "outputs": [],
   "source": [
    "from scraper_place import fetch"
   ]
  },
  {
   "cell_type": "code",
   "execution_count": 6,
   "metadata": {},
   "outputs": [],
   "source": [
    "links = fetch.fetch_current_annonces(nb_pages=2)"
   ]
  },
  {
   "cell_type": "code",
   "execution_count": 7,
   "metadata": {},
   "outputs": [
    {
     "data": {
      "text/plain": [
       "['https://www.marches-publics.gouv.fr/?page=entreprise.EntrepriseDetailsConsultation&refConsultation=426931&orgAcronyme=x7c',\n",
       " 'https://www.marches-publics.gouv.fr/?page=entreprise.EntrepriseDetailsConsultation&refConsultation=342139&orgAcronyme=a4n',\n",
       " 'https://www.marches-publics.gouv.fr/?page=entreprise.EntrepriseDetailsConsultation&refConsultation=436933&orgAcronyme=x7c',\n",
       " 'https://www.marches-publics.gouv.fr/?page=entreprise.EntrepriseDetailsConsultation&refConsultation=310484&orgAcronyme=t9y',\n",
       " 'https://www.marches-publics.gouv.fr/?page=entreprise.EntrepriseDetailsConsultation&refConsultation=365443&orgAcronyme=s2d',\n",
       " 'https://www.marches-publics.gouv.fr/?page=entreprise.EntrepriseDetailsConsultation&refConsultation=337330&orgAcronyme=g7h',\n",
       " 'https://www.marches-publics.gouv.fr/?page=entreprise.EntrepriseDetailsConsultation&refConsultation=339793&orgAcronyme=g7h',\n",
       " 'https://www.marches-publics.gouv.fr/?page=entreprise.EntrepriseDetailsConsultation&refConsultation=388518&orgAcronyme=d4t',\n",
       " 'https://www.marches-publics.gouv.fr/?page=entreprise.EntrepriseDetailsConsultation&refConsultation=364505&orgAcronyme=x7c',\n",
       " 'https://www.marches-publics.gouv.fr/?page=entreprise.EntrepriseDetailsConsultation&refConsultation=278509&orgAcronyme=t9y',\n",
       " 'https://www.marches-publics.gouv.fr/?page=entreprise.EntrepriseDetailsConsultation&refConsultation=419055&orgAcronyme=x7c',\n",
       " 'https://www.marches-publics.gouv.fr/?page=entreprise.EntrepriseDetailsConsultation&refConsultation=410925&orgAcronyme=g7h',\n",
       " 'https://www.marches-publics.gouv.fr/?page=entreprise.EntrepriseDetailsConsultation&refConsultation=361769&orgAcronyme=x7c',\n",
       " 'https://www.marches-publics.gouv.fr/?page=entreprise.EntrepriseDetailsConsultation&refConsultation=421532&orgAcronyme=x7c',\n",
       " 'https://www.marches-publics.gouv.fr/?page=entreprise.EntrepriseDetailsConsultation&refConsultation=410443&orgAcronyme=d4t',\n",
       " 'https://www.marches-publics.gouv.fr/?page=entreprise.EntrepriseDetailsConsultation&refConsultation=409836&orgAcronyme=x7c',\n",
       " 'https://www.marches-publics.gouv.fr/?page=entreprise.EntrepriseDetailsConsultation&refConsultation=413526&orgAcronyme=h8j',\n",
       " 'https://www.marches-publics.gouv.fr/?page=entreprise.EntrepriseDetailsConsultation&refConsultation=410398&orgAcronyme=x7c',\n",
       " 'https://www.marches-publics.gouv.fr/?page=entreprise.EntrepriseDetailsConsultation&refConsultation=429881&orgAcronyme=s2d',\n",
       " 'https://www.marches-publics.gouv.fr/?page=entreprise.EntrepriseDetailsConsultation&refConsultation=452831&orgAcronyme=s2d',\n",
       " 'https://www.marches-publics.gouv.fr/?page=entreprise.EntrepriseDetailsConsultation&refConsultation=451645&orgAcronyme=s2d',\n",
       " 'https://www.marches-publics.gouv.fr/?page=entreprise.EntrepriseDetailsConsultation&refConsultation=450471&orgAcronyme=s2d',\n",
       " 'https://www.marches-publics.gouv.fr/?page=entreprise.EntrepriseDetailsConsultation&refConsultation=454106&orgAcronyme=d4t',\n",
       " 'https://www.marches-publics.gouv.fr/?page=entreprise.EntrepriseDetailsConsultation&refConsultation=439882&orgAcronyme=g6l',\n",
       " 'https://www.marches-publics.gouv.fr/?page=entreprise.EntrepriseDetailsConsultation&refConsultation=437506&orgAcronyme=x7c',\n",
       " 'https://www.marches-publics.gouv.fr/?page=entreprise.EntrepriseDetailsConsultation&refConsultation=418700&orgAcronyme=g6l',\n",
       " 'https://www.marches-publics.gouv.fr/?page=entreprise.EntrepriseDetailsConsultation&refConsultation=411647&orgAcronyme=g6l',\n",
       " 'https://www.marches-publics.gouv.fr/?page=entreprise.EntrepriseDetailsConsultation&refConsultation=417111&orgAcronyme=b4n',\n",
       " 'https://www.marches-publics.gouv.fr/?page=entreprise.EntrepriseDetailsConsultation&refConsultation=445171&orgAcronyme=d4t',\n",
       " 'https://www.marches-publics.gouv.fr/?page=entreprise.EntrepriseDetailsConsultation&refConsultation=263199&orgAcronyme=g7h',\n",
       " 'https://www.marches-publics.gouv.fr/?page=entreprise.EntrepriseDetailsConsultation&refConsultation=453490&orgAcronyme=x7c',\n",
       " 'https://www.marches-publics.gouv.fr/?page=entreprise.EntrepriseDetailsConsultation&refConsultation=437882&orgAcronyme=s2d',\n",
       " 'https://www.marches-publics.gouv.fr/?page=entreprise.EntrepriseDetailsConsultation&refConsultation=434667&orgAcronyme=s2d',\n",
       " 'https://www.marches-publics.gouv.fr/?page=entreprise.EntrepriseDetailsConsultation&refConsultation=450801&orgAcronyme=g7h',\n",
       " 'https://www.marches-publics.gouv.fr/?page=entreprise.EntrepriseDetailsConsultation&refConsultation=447207&orgAcronyme=d3f',\n",
       " 'https://www.marches-publics.gouv.fr/?page=entreprise.EntrepriseDetailsConsultation&refConsultation=369292&orgAcronyme=g6l',\n",
       " 'https://www.marches-publics.gouv.fr/?page=entreprise.EntrepriseDetailsConsultation&refConsultation=454170&orgAcronyme=s2d',\n",
       " 'https://www.marches-publics.gouv.fr/?page=entreprise.EntrepriseDetailsConsultation&refConsultation=456147&orgAcronyme=x7c',\n",
       " 'https://www.marches-publics.gouv.fr/?page=entreprise.EntrepriseDetailsConsultation&refConsultation=455318&orgAcronyme=g7h',\n",
       " 'https://www.marches-publics.gouv.fr/?page=entreprise.EntrepriseDetailsConsultation&refConsultation=451903&orgAcronyme=g7h']"
      ]
     },
     "execution_count": 7,
     "metadata": {},
     "output_type": "execute_result"
    }
   ],
   "source": [
    "links"
   ]
  },
  {
   "cell_type": "code",
   "execution_count": 8,
   "metadata": {},
   "outputs": [],
   "source": [
    "link_annonce = 'https://www.marches-publics.gouv.fr/?page=entreprise.EntrepriseDetailsConsultation&refConsultation=453610&orgAcronyme=s2d'"
   ]
  },
  {
   "cell_type": "code",
   "execution_count": 9,
   "metadata": {},
   "outputs": [],
   "source": [
    "\n",
    "annonce_id, org_acronym = re.match(LINK_REGEX, link_annonce).groups()\n",
    "url_annonce = 'https://www.marches-publics.gouv.fr/index.php?page=entreprise.EntrepriseDetailsConsultation&refConsultation={}&orgAcronyme={}'.format(annonce_id, org_acronym)\n",
    "\n",
    "response = requests.get(url_annonce)\n",
    "assert response.status_code == 200\n",
    "page_state = re.search(PAGE_STATE_REGEX, response.text).groups()[0]\n"
   ]
  },
  {
   "cell_type": "code",
   "execution_count": 11,
   "metadata": {},
   "outputs": [],
   "source": [
    "\n",
    "\n",
    "# Get text data\n",
    "\n",
    "links_boamp = fetch.extract_links(response, BOAMP_REGEX)\n",
    "unique_boamp = list(set(links_boamp))\n",
    "links_boamp = unique_boamp\n",
    "\n",
    "soup = BeautifulSoup(response.text, 'html.parser')\n",
    "\n",
    "recap_data = soup.find_all(class_=\"col-md-10 text-justify\")\n"
   ]
  },
  {
   "cell_type": "code",
   "execution_count": 12,
   "metadata": {},
   "outputs": [],
   "source": [
    "\n",
    "assert recap_data[0].find('label').text.strip() == \"Référence :\"\n",
    "reference = recap_data[0].find('div').text.strip()\n",
    "\n",
    "assert recap_data[1].find('label').text.strip() == \"Intitulé :\"\n",
    "intitule = recap_data[1].find('div').text.strip()\n",
    "\n",
    "assert recap_data[2].find('label').text.strip() == \"Objet :\"\n",
    "objet = recap_data[2].find('div').text.strip()\n",
    "\n"
   ]
  },
  {
   "cell_type": "code",
   "execution_count": 13,
   "metadata": {},
   "outputs": [],
   "source": [
    "\n",
    "# Get links to files\n",
    "\n",
    "publicite_tabs = soup.find_all(id='pub')\n",
    "assert len(publicite_tabs) == 1\n",
    "publicite_tab = publicite_tabs[0]\n",
    "file_links = publicite_tab.find_all('a')\n",
    "\n",
    "links_reglements = []\n",
    "links_dces = []\n",
    "links_avis = []\n",
    "links_complements = []\n",
    "\n",
    "for link in file_links:\n",
    "    link_href = link.attrs['href']\n",
    "\n",
    "    if re.match(BOAMP_REGEX, link_href):\n",
    "        continue\n",
    "    if not link_href:\n",
    "        continue\n",
    "\n",
    "    if 'id' not in link.attrs:\n",
    "        # \"liens directs\"\n",
    "        continue\n",
    "\n",
    "    link_id = link.attrs['id']\n",
    "\n",
    "    if link_id == 'linkDownloadReglement':\n",
    "        links_reglements.append(link_href)\n",
    "    elif link_id == 'linkDownloadDce':\n",
    "        links_dces.append(link_href)\n",
    "    elif link_id == 'linkDownloadAvis':\n",
    "        links_avis.append(link_href)\n",
    "    elif link_id == 'linkDownloadComplement':\n",
    "        links_complements.append(link_href)\n",
    "    elif link_id == 'linkDownloadDume':\n",
    "        pass  # \"DUME acheteur\" does not contain useful information\n",
    "    else:\n",
    "        raise Exception('Unknown link type {} : {}'.format(link_id, link_href))\n",
    "\n",
    "assert len(links_reglements) <= 1\n",
    "link_reglement = links_reglements[0] if links_reglements else None\n",
    "assert len(links_dces) <= 1\n",
    "link_dce = links_dces[0] if links_dces else None\n",
    "# Avis rectificatifs...\n",
    "# assert len(links_avis) <= 1\n",
    "link_avis = links_avis[0] if links_avis else None\n",
    "assert len(links_complements) <= 1\n",
    "link_complement = links_complements[0] if links_complements else None\n",
    "\n",
    "\n",
    "def write_response_to_file(annonce_id, org_acronym, filename, file_type, response):\n",
    "    return 1\n",
    "\n"
   ]
  },
  {
   "cell_type": "code",
   "execution_count": null,
   "metadata": {},
   "outputs": [],
   "source": []
  },
  {
   "cell_type": "code",
   "execution_count": 24,
   "metadata": {},
   "outputs": [],
   "source": [
    "\n",
    "\n",
    "\n",
    "# Get Dossier de Consultation aux Entreprises\n",
    "\n",
    "filename_dce = None\n",
    "file_size_dce = None\n",
    "if link_dce:\n",
    "    url_dce = 'https://www.marches-publics.gouv.fr/index.php?page=entreprise.EntrepriseDemandeTelechargementDce&refConsultation={}&orgAcronyme={}'.format(annonce_id, org_acronym)\n",
    "    response_dce = requests.get(url_dce)\n",
    "    assert response_dce.status_code == 200\n",
    "    page_state = re.search(PAGE_STATE_REGEX, response_dce.text).groups()[0]\n",
    "    cookie = response_dce.headers['Set-Cookie']\n",
    "\n",
    "    data = {\n",
    "        'PRADO_PAGESTATE': page_state,\n",
    "        'PRADO_POSTBACK_TARGET': 'ctl0$CONTENU_PAGE$validateButton',\n",
    "        'ctl0$CONTENU_PAGE$EntrepriseFormulaireDemande$RadioGroup': 'ctl0$CONTENU_PAGE$EntrepriseFormulaireDemande$choixAnonyme',\n",
    "    }\n",
    "    response_dce2 = requests.post(url_dce, headers={'Cookie': cookie}, data=data)\n",
    "    assert response_dce2.status_code == 200\n",
    "    page_state = re.search(PAGE_STATE_REGEX, response_dce2.text).groups()[0]\n",
    "\n",
    "    data = {\n",
    "        'PRADO_PAGESTATE': page_state,\n",
    "        'PRADO_POSTBACK_TARGET': 'ctl0$CONTENU_PAGE$EntrepriseDownloadDce$completeDownload',\n",
    "    }\n",
    "    response_dce3 = requests.post(url_dce, headers={'Cookie': cookie}, data=data, stream=True)\n",
    "    assert response_dce3.status_code == 200\n",
    "\n",
    "    content_type = response_dce3.headers['Content-Type']\n",
    "    assert content_type == 'application/zip', content_type\n",
    "    regex_attachment = r'^attachment; filename=\"([^\"]+)\";$'\n",
    "    filename_dce = re.match(regex_attachment, response_dce3.headers['Content-Disposition']).groups()[0]\n",
    "\n",
    "    file_size_dce = write_response_to_file(annonce_id, org_acronym, filename_dce, 'dce', response_dce3)\n"
   ]
  },
  {
   "cell_type": "code",
   "execution_count": 12,
   "metadata": {},
   "outputs": [],
   "source": []
  },
  {
   "cell_type": "code",
   "execution_count": 26,
   "metadata": {},
   "outputs": [],
   "source": [
    "recap_data = soup.find_all(class_=\"col-md-10 text-justify\")\n",
    "\n",
    "assert recap_data[0].find('label').text.strip() == \"Référence :\"\n",
    "reference = recap_data[0].find('div').text.strip()\n",
    "\n",
    "assert recap_data[1].find('label').text.strip() == \"Intitulé :\"\n",
    "intitule = recap_data[1].find('div').text.strip()\n",
    "\n",
    "assert recap_data[2].find('label').text.strip() == \"Objet :\"\n",
    "objet = recap_data[2].find('div').text.strip()\n"
   ]
  },
  {
   "cell_type": "code",
   "execution_count": null,
   "metadata": {},
   "outputs": [],
   "source": []
  },
  {
   "cell_type": "code",
   "execution_count": null,
   "metadata": {},
   "outputs": [],
   "source": [
    "\n",
    "# Get links to files\n",
    "\n",
    "publicite_tabs = soup.find_all(id='pub')\n",
    "assert len(publicite_tabs) == 1\n",
    "publicite_tab = publicite_tabs[0]\n",
    "file_links = publicite_tab.find_all('a')\n",
    "\n",
    "links_reglements = []\n",
    "links_dces = []\n",
    "links_avis = []\n",
    "\n",
    "for link in file_links:\n",
    "    link_id = link.attrs['id']\n",
    "    link_href = link.attrs['href']\n",
    "\n",
    "    if re.match(BOAMP_REGEX, link_href):\n",
    "        continue\n",
    "    if not link_href:\n",
    "        continue\n",
    "\n",
    "    if link_id == 'linkDownloadReglement':\n",
    "        links_reglements.append(link_href)\n",
    "    elif link_id == 'linkDownloadDce':\n",
    "        links_dces.append(link_href)\n",
    "    elif link_id == 'linkDownloadAvis':\n",
    "        links_avis.append(link_href)\n",
    "    else:\n",
    "        raise Exception('Unknown link type {} : {}'.format(link_id, link_href))\n",
    "\n",
    "assert len(links_reglements) <= 1\n",
    "link_reglement = links_reglements[0] if links_reglements else None\n",
    "assert len(links_dces) <= 1\n",
    "link_dce = links_dces[0] if links_dces else None\n",
    "assert len(links_avis) <= 1\n",
    "link_avis = links_avis[0] if links_avis else None\n",
    "\n",
    "\n",
    "def write_response_to_file(annonce_id, org_acronym, filename, file_type, response):\n",
    "    internal_filepath = build_internal_filepath(annonce_id, org_acronym, filename, file_type)\n",
    "    with open(internal_filepath, 'wb') as file_object:\n",
    "        for chunk in response.iter_content(8192):\n",
    "            file_object.write(chunk)\n"
   ]
  },
  {
   "cell_type": "code",
   "execution_count": 22,
   "metadata": {},
   "outputs": [
    {
     "data": {
      "text/plain": [
       "('18-57381', '18-57381')"
      ]
     },
     "execution_count": 22,
     "metadata": {},
     "output_type": "execute_result"
    }
   ],
   "source": [
    "BOAMP_REGEX = r'^http://www\\.boamp\\.fr/(?:index\\.php/)?avis/detail/([\\d-]+)(?:/[\\d]+)?$'\n",
    "\n",
    "re.match(BOAMP_REGEX, 'http://www.boamp.fr/avis/detail/18-57381/0').groups()[0], re.match(BOAMP_REGEX, 'http://www.boamp.fr/index.php/avis/detail/18-57381').groups()[0]\n"
   ]
  },
  {
   "cell_type": "code",
   "execution_count": 13,
   "metadata": {},
   "outputs": [
    {
     "ename": "NameError",
     "evalue": "name 'build_internal_filepath' is not defined",
     "output_type": "error",
     "traceback": [
      "\u001b[0;31m---------------------------------------------------------------------------\u001b[0m",
      "\u001b[0;31mNameError\u001b[0m                                 Traceback (most recent call last)",
      "\u001b[0;32m<ipython-input-13-079f5c512c4e>\u001b[0m in \u001b[0;36m<module>\u001b[0;34m()\u001b[0m\n\u001b[1;32m     13\u001b[0m     \u001b[0mfilename_avis\u001b[0m \u001b[0;34m=\u001b[0m \u001b[0mre\u001b[0m\u001b[0;34m.\u001b[0m\u001b[0mmatch\u001b[0m\u001b[0;34m(\u001b[0m\u001b[0mregex_attachment\u001b[0m\u001b[0;34m,\u001b[0m \u001b[0mresponse_avis\u001b[0m\u001b[0;34m.\u001b[0m\u001b[0mheaders\u001b[0m\u001b[0;34m[\u001b[0m\u001b[0;34m'Content-Disposition'\u001b[0m\u001b[0;34m]\u001b[0m\u001b[0;34m)\u001b[0m\u001b[0;34m.\u001b[0m\u001b[0mgroups\u001b[0m\u001b[0;34m(\u001b[0m\u001b[0;34m)\u001b[0m\u001b[0;34m[\u001b[0m\u001b[0;36m0\u001b[0m\u001b[0;34m]\u001b[0m\u001b[0;34m\u001b[0m\u001b[0m\n\u001b[1;32m     14\u001b[0m \u001b[0;34m\u001b[0m\u001b[0m\n\u001b[0;32m---> 15\u001b[0;31m     \u001b[0mwrite_response_to_file\u001b[0m\u001b[0;34m(\u001b[0m\u001b[0mannonce_id\u001b[0m\u001b[0;34m,\u001b[0m \u001b[0morg_acronym\u001b[0m\u001b[0;34m,\u001b[0m \u001b[0mfilename_avis\u001b[0m\u001b[0;34m,\u001b[0m \u001b[0;34m'avis'\u001b[0m\u001b[0;34m,\u001b[0m \u001b[0mresponse_avis\u001b[0m\u001b[0;34m)\u001b[0m\u001b[0;34m\u001b[0m\u001b[0m\n\u001b[0m\u001b[1;32m     16\u001b[0m \u001b[0;34m\u001b[0m\u001b[0m\n",
      "\u001b[0;32m<ipython-input-7-4d7f81e82050>\u001b[0m in \u001b[0;36mwrite_response_to_file\u001b[0;34m(annonce_id, org_acronym, filename, file_type, response)\u001b[0m\n\u001b[1;32m     64\u001b[0m \u001b[0;34m\u001b[0m\u001b[0m\n\u001b[1;32m     65\u001b[0m \u001b[0;32mdef\u001b[0m \u001b[0mwrite_response_to_file\u001b[0m\u001b[0;34m(\u001b[0m\u001b[0mannonce_id\u001b[0m\u001b[0;34m,\u001b[0m \u001b[0morg_acronym\u001b[0m\u001b[0;34m,\u001b[0m \u001b[0mfilename\u001b[0m\u001b[0;34m,\u001b[0m \u001b[0mfile_type\u001b[0m\u001b[0;34m,\u001b[0m \u001b[0mresponse\u001b[0m\u001b[0;34m)\u001b[0m\u001b[0;34m:\u001b[0m\u001b[0;34m\u001b[0m\u001b[0m\n\u001b[0;32m---> 66\u001b[0;31m     \u001b[0minternal_filepath\u001b[0m \u001b[0;34m=\u001b[0m \u001b[0mbuild_internal_filepath\u001b[0m\u001b[0;34m(\u001b[0m\u001b[0mannonce_id\u001b[0m\u001b[0;34m,\u001b[0m \u001b[0morg_acronym\u001b[0m\u001b[0;34m,\u001b[0m \u001b[0mfilename\u001b[0m\u001b[0;34m,\u001b[0m \u001b[0mfile_type\u001b[0m\u001b[0;34m)\u001b[0m\u001b[0;34m\u001b[0m\u001b[0m\n\u001b[0m\u001b[1;32m     67\u001b[0m     \u001b[0;32mwith\u001b[0m \u001b[0mopen\u001b[0m\u001b[0;34m(\u001b[0m\u001b[0minternal_filepath\u001b[0m\u001b[0;34m,\u001b[0m \u001b[0;34m'wb'\u001b[0m\u001b[0;34m)\u001b[0m \u001b[0;32mas\u001b[0m \u001b[0mfile_object\u001b[0m\u001b[0;34m:\u001b[0m\u001b[0;34m\u001b[0m\u001b[0m\n\u001b[1;32m     68\u001b[0m         \u001b[0;32mfor\u001b[0m \u001b[0mchunk\u001b[0m \u001b[0;32min\u001b[0m \u001b[0mresponse\u001b[0m\u001b[0;34m.\u001b[0m\u001b[0miter_content\u001b[0m\u001b[0;34m(\u001b[0m\u001b[0;36m8192\u001b[0m\u001b[0;34m)\u001b[0m\u001b[0;34m:\u001b[0m\u001b[0;34m\u001b[0m\u001b[0m\n",
      "\u001b[0;31mNameError\u001b[0m: name 'build_internal_filepath' is not defined"
     ]
    }
   ],
   "source": [
    "\n",
    "\n",
    "# Get avis\n",
    "\n",
    "if not link_avis:\n",
    "    filename_avis = None\n",
    "else:\n",
    "    response_avis = requests.get('https://www.marches-publics.gouv.fr{}'.format(link_avis), stream=True)\n",
    "    assert response_avis.status_code == 200\n",
    "    content_type = response_avis.headers['Content-Type']\n",
    "    assert content_type in {'application/pdf', }, content_type\n",
    "    regex_attachment = r'^attachment; filename=\"([^\"]+)\";'\n",
    "    filename_avis = re.match(regex_attachment, response_avis.headers['Content-Disposition']).groups()[0]\n",
    "\n",
    "    write_response_to_file(annonce_id, org_acronym, filename_avis, 'avis', response_avis)\n",
    "\n"
   ]
  },
  {
   "cell_type": "code",
   "execution_count": 14,
   "metadata": {},
   "outputs": [
    {
     "data": {
      "text/plain": [
       "'Accus_ de reception - 18-55788.pdf'"
      ]
     },
     "execution_count": 14,
     "metadata": {},
     "output_type": "execute_result"
    }
   ],
   "source": [
    "filename_avis"
   ]
  },
  {
   "cell_type": "code",
   "execution_count": 55,
   "metadata": {},
   "outputs": [],
   "source": [
    "publicite_tabs = soup.find_all(id='pub')\n",
    "assert len(publicite_tabs) == 1\n",
    "publicite_tab = publicite_tabs[0]\n",
    "file_links = publicite_tab.find_all('a')\n",
    "\n",
    "links_reglements = []\n",
    "links_dces = []"
   ]
  },
  {
   "cell_type": "code",
   "execution_count": 56,
   "metadata": {},
   "outputs": [
    {
     "ename": "Exception",
     "evalue": "Unknown link type linkDownloadComplement : ",
     "output_type": "error",
     "traceback": [
      "\u001b[0;31m------------------------------------------------------------\u001b[0m",
      "\u001b[0;31mException\u001b[0m                  Traceback (most recent call last)",
      "\u001b[0;32m<ipython-input-56-91727cfd3428>\u001b[0m in \u001b[0;36m<module>\u001b[0;34m()\u001b[0m\n\u001b[1;32m     14\u001b[0m         \u001b[0mlinks_dces\u001b[0m\u001b[0;34m.\u001b[0m\u001b[0mappend\u001b[0m\u001b[0;34m(\u001b[0m\u001b[0mlink_href\u001b[0m\u001b[0;34m)\u001b[0m\u001b[0;34m\u001b[0m\u001b[0m\n\u001b[1;32m     15\u001b[0m     \u001b[0;32melse\u001b[0m\u001b[0;34m:\u001b[0m\u001b[0;34m\u001b[0m\u001b[0m\n\u001b[0;32m---> 16\u001b[0;31m         \u001b[0;32mraise\u001b[0m \u001b[0mException\u001b[0m\u001b[0;34m(\u001b[0m\u001b[0;34m'Unknown link type {} : '\u001b[0m\u001b[0;34m.\u001b[0m\u001b[0mformat\u001b[0m\u001b[0;34m(\u001b[0m\u001b[0mlink_id\u001b[0m\u001b[0;34m,\u001b[0m \u001b[0mlink_href\u001b[0m\u001b[0;34m)\u001b[0m\u001b[0;34m)\u001b[0m\u001b[0;34m\u001b[0m\u001b[0m\n\u001b[0m",
      "\u001b[0;31mException\u001b[0m: Unknown link type linkDownloadComplement : "
     ]
    }
   ],
   "source": [
    "\n",
    "for link in file_links:\n",
    "    link_id = link.attrs['id']\n",
    "    link_href = link.attrs['href']\n",
    "\n",
    "    if re.match(BOAMP_REGEX, link_href):\n",
    "        continue\n",
    "    if link_href == 'https://www.marches-publics.gouv.fr/app.php/consultation/{}'.format(annonce_id):\n",
    "        continue\n",
    "\n",
    "    if link_id == 'linkDownloadReglement':\n",
    "        links_reglements.append(link_href)\n",
    "    elif link_id == 'linkDownloadDce':\n",
    "        links_dces.append(link_href)\n",
    "    else:\n",
    "        raise Exception('Unknown link type {} : '.format(link_id, link_href))\n"
   ]
  },
  {
   "cell_type": "code",
   "execution_count": 58,
   "metadata": {},
   "outputs": [
    {
     "data": {
      "text/plain": [
       "[<a href=\"https://www.marches-publics.gouv.fr/index.php?page=entreprise.EntrepriseDemandeTelechargementDce&amp;refConsultation=372248&amp;orgAcronyme=a4n\" id=\"linkDownloadDce\">\n",
       "                                         Dossier de consultation - 822,07 Ko\n",
       "                                     </a>,\n",
       " <a href=\"\" id=\"linkDownloadComplement\">\n",
       "                                     En savoir plus sur la consultation - 0 Ko\n",
       "                                 </a>]"
      ]
     },
     "execution_count": 58,
     "metadata": {},
     "output_type": "execute_result"
    }
   ],
   "source": [
    "file_links"
   ]
  },
  {
   "cell_type": "code",
   "execution_count": 45,
   "metadata": {},
   "outputs": [
    {
     "data": {
      "text/plain": [
       "<div class=\"bloc clearfix\">\n",
       "<div class=\"bloc-title h3\">\n",
       "<label class=\"p-l-0\" for=\"mps\">\n",
       "<strong>Candidature via le dispositif MPS (Marché Public Simplifié)</strong>\n",
       "<img alt=\"Cette consultation est un Marché Public Simplifié\" class=\"inline-img\" src=\"https://www.marches-publics.gouv.fr/bundles/atexoconsultationdepot/assets/images/logo-mps-small.png?k=5ad7ac848f7ab9.24989714\"/>\n",
       "</label>\n",
       "</div>\n",
       "<div>Ce mode de candidature permet de répondre à la consultation en complétant en ligne un formulaire de candidature simplifié pré-rempli, avant de joindre son offre sans nécessairement la signer.</div>\n",
       "<a class=\"arrow-link arrow-left\" href=\"http://www.modernisation.gouv.fr/les-services-publics-se-simplifient-et-innovent/par-des-simplifications-pour-les-entreprises/marche-public-simplifie\" target=\"_blank\" title=\"Lien externe\">\n",
       "                            En savoir plus\n",
       "                        </a>\n",
       "</div>"
      ]
     },
     "execution_count": 45,
     "metadata": {},
     "output_type": "execute_result"
    }
   ],
   "source": [
    "link_blocks[1]"
   ]
  },
  {
   "cell_type": "code",
   "execution_count": 23,
   "metadata": {
    "scrolled": false
   },
   "outputs": [
    {
     "name": "stdout",
     "output_type": "stream",
     "text": [
      "boamp:\n",
      "http://www.boamp.fr/index.php/avis/detail/17-182893\n"
     ]
    },
    {
     "data": {
      "text/plain": [
       "(['https://www.marches-publics.gouv.fr/index.php?page=entreprise.EntrepriseDownloadReglement&reference=MzQyMTM5&orgAcronyme=a4n'],\n",
       " ['https://www.marches-publics.gouv.fr/index.php?page=entreprise.EntrepriseDemandeTelechargementDce&refConsultation=342139&orgAcronyme=a4n'],\n",
       " [])"
      ]
     },
     "execution_count": 23,
     "metadata": {},
     "output_type": "execute_result"
    }
   ],
   "source": [
    "\n",
    "assert len(link_blocks) == 1\n",
    "link_block = link_blocks[0]\n",
    "file_links = link_block.find_all('a')\n",
    "\n",
    "reglements = []\n",
    "dces = []\n",
    "complements = []\n",
    "\n",
    "for link in file_links:\n",
    "    link_id = link.attrs['id']\n",
    "    link_href = link.attrs['href']\n",
    "    \n",
    "    if re.match(BOAMP_REGEX, link_href):\n",
    "        print('boamp:')\n",
    "        print(link_href)\n",
    "        continue\n",
    "    \n",
    "    if link_id == 'linkDownloadReglement':\n",
    "        reglements.append(link_href)\n",
    "    elif link_id == 'linkDownloadDce':\n",
    "        dces.append(link_href)\n",
    "    elif link_id == 'linkDownloadComplement':\n",
    "        complements.append(link_href)\n",
    "    else:\n",
    "        raise Exception('Unknown link type {}'.format(link_id))\n",
    "        \n",
    "        \n",
    "reglements, dces, complements"
   ]
  },
  {
   "cell_type": "code",
   "execution_count": 31,
   "metadata": {},
   "outputs": [
    {
     "data": {
      "text/plain": [
       "'https://www.marches-publics.gouv.fr/index.php?page=entreprise.EntrepriseDownloadReglement&reference=MzQyMTM5&orgAcronyme=a4n'"
      ]
     },
     "execution_count": 31,
     "metadata": {},
     "output_type": "execute_result"
    }
   ],
   "source": [
    "reglements[0] if reglements else None"
   ]
  },
  {
   "cell_type": "code",
   "execution_count": 24,
   "metadata": {},
   "outputs": [],
   "source": [
    "\n",
    "url_dce = 'https://www.marches-publics.gouv.fr/index.php?page=entreprise.EntrepriseDemandeTelechargementDce&refConsultation={}&orgAcronyme={}'.format(annonce_id, org_acronym)\n",
    "response_dce = requests.get(url_dce)\n",
    "assert response_dce.status_code == 200\n",
    "page_state = re.search(PAGE_STATE_REGEX, response_dce.text).groups()[0]\n"
   ]
  },
  {
   "cell_type": "code",
   "execution_count": null,
   "metadata": {},
   "outputs": [],
   "source": []
  },
  {
   "cell_type": "code",
   "execution_count": 26,
   "metadata": {},
   "outputs": [],
   "source": [
    "\n",
    "data = {\n",
    "    'PRADO_PAGESTATE': page_state,\n",
    "    'PRADO_POSTBACK_TARGET': 'ctl0$CONTENU_PAGE$validateButton',\n",
    "    'ctl0$CONTENU_PAGE$EntrepriseFormulaireDemande$RadioGroup': 'ctl0$CONTENU_PAGE$EntrepriseFormulaireDemande$choixAnonyme',\n",
    "}\n",
    "response_dce2 = requests.post(url_dce, data=data)\n",
    "assert response_dce2.status_code == 200\n",
    "page_state = re.search(PAGE_STATE_REGEX, response_dce2.text).groups()[0]\n",
    "\n",
    "data = {\n",
    "    'PRADO_PAGESTATE': page_state,\n",
    "    'PRADO_POSTBACK_TARGET': 'ctl0$CONTENU_PAGE$EntrepriseDownloadDce$completeDownload',\n",
    "}\n",
    "response_dce3 = requests.post(url_dce, data=data, stream=True)\n",
    "assert response_dce3.status_code == 200\n",
    "\n",
    "content_type = response_dce3.headers['Content-Type']\n",
    "assert content_type == 'application/zip', content_type\n",
    "regex_attachment = r'^attachment; filename=\"([^\"]+)\";$'\n",
    "filename_dce = re.match(regex_attachment, response_dce3.headers['Content-Disposition']).groups()[0]\n"
   ]
  },
  {
   "cell_type": "code",
   "execution_count": 27,
   "metadata": {},
   "outputs": [
    {
     "data": {
      "text/plain": [
       "'DCE-DAE_2017_SAD_INFRA-16012018.zip'"
      ]
     },
     "execution_count": 27,
     "metadata": {},
     "output_type": "execute_result"
    }
   ],
   "source": [
    "filename_dce"
   ]
  },
  {
   "cell_type": "code",
   "execution_count": null,
   "metadata": {},
   "outputs": [],
   "source": []
  }
 ],
 "metadata": {
  "kernelspec": {
   "display_name": "Python 3",
   "language": "python",
   "name": "python3"
  },
  "language_info": {
   "codemirror_mode": {
    "name": "ipython",
    "version": 3
   },
   "file_extension": ".py",
   "mimetype": "text/x-python",
   "name": "python",
   "nbconvert_exporter": "python",
   "pygments_lexer": "ipython3",
   "version": "3.6.3"
  }
 },
 "nbformat": 4,
 "nbformat_minor": 2
}
